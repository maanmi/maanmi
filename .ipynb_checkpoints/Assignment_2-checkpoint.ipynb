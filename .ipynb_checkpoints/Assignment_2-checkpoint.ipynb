{
 "cells": [
  {
   "cell_type": "code",
   "execution_count": 12,
   "metadata": {
    "collapsed": true
   },
   "outputs": [],
   "source": [
    "# Imports\n",
    "from __future__ import division\n",
    "import os, gzip, urllib2, csv, numpy as np\n",
    "from sklearn.cluster import KMeans\n",
    "from matplotlib import pyplot as plt"
   ]
  },
  {
   "cell_type": "markdown",
   "metadata": {},
   "source": [
    "## Clustering"
   ]
  },
  {
   "cell_type": "markdown",
   "metadata": {},
   "source": [
    "* **Exercise: K-means.\n",
    "In this exercise we explore K-means clustering - and we it out on the locations of the PROSTITUTION crime type. Applying a clustering method makes sense because we know from our earlier work that this crime type tends to happen in only a few locations. \n",
    "**\n",
    "\n",
    "**Visualize the prostitution data**"
   ]
  },
  {
   "cell_type": "code",
   "execution_count": 13,
   "metadata": {
    "collapsed": false
   },
   "outputs": [],
   "source": [
    "prost_geo_data={\"lat\": [],\"lon\": []} ; Y=[]\n",
    "\n",
    "filename = 'data/SFPD_Incidents_-_from_1_January_2003.csv.gz'\n",
    "\n",
    "if not os.path.isfile(filename):\n",
    "    import shutil\n",
    "    src = urllib2.urlopen('https://data.sfgov.org/api/views/tmnf-yvry/rows.csv?accessType=DOWNLOAD')\n",
    "    with gzip.open(filename, 'wt') as f:\n",
    "        shutil.copyfileobj(src, f)\n",
    "\n",
    "with gzip.open(filename, 'rt') as f:\n",
    "    for row in csv.DictReader(f):\n",
    "        if row['Category'] == 'PROSTITUTION':\n",
    "            if float(row['Y'])==90: # Skip some wrong values \n",
    "                continue\n",
    "            prost_geo_data['lon']+=[float(row['X'])]; prost_geo_data['lat']+=[float(row['Y'])]\n",
    "            Y+=[row['PdDistrict']]\n",
    "\n",
    "max_lat, max_lon = map(max, [prost_geo_data['lat'], prost_geo_data['lon']])\n",
    "min_lat, min_lon = map(min, [prost_geo_data['lat'], prost_geo_data['lon']])\n",
    "bbox_center_x=(min_lat+max_lat)/2; bbox_center_y=(min_lon+max_lon)/2"
   ]
  },
  {
   "cell_type": "code",
   "execution_count": 5,
   "metadata": {
    "collapsed": true
   },
   "outputs": [],
   "source": [
    "# Bring data to correct format:\n",
    "X=[[lat, lon] for lat, lon in zip(*prost_geo_data.values())]\n",
    "\n",
    "my_range=range(2,7)\n",
    "\n",
    "# Fit data to kmeans classifier:\n",
    "kmeans=[KMeans(n_clusters=k, random_state=0).fit(X) for k in my_range]"
   ]
  },
  {
   "cell_type": "markdown",
   "metadata": {},
   "source": [
    "**Explore how the total squared error changes as a function of K and identify what you think is the right number of clusers based on the knee-point in the squared error plot.**"
   ]
  },
  {
   "cell_type": "code",
   "execution_count": 8,
   "metadata": {
    "collapsed": false
   },
   "outputs": [
    {
     "data": {
      "image/png": "[encoded data removed]",
      "text/plain": [
       "<matplotlib.figure.Figure at 0x110629090>"
      ]
     },
     "metadata": {},
     "output_type": "display_data"
    }
   ],
   "source": [
    "def squared_distance(v, w):\n",
    "    \"\"\"Returns sum of square differences between two vectors\"\"\"\n",
    "    return np.sum((v-w)**2)\n",
    "\n",
    "# Calculate squared clustering errors for k=2,...,10  \n",
    "errors=[]\n",
    "for k in my_range:\n",
    "    means = kmeans[k-2].cluster_centers_\n",
    "    # Shamelessly ripped off of DSFS chapter 19:\n",
    "    assignments = [min(range(k), key=lambda i: squared_distance(x, means[i])) for x in X]\n",
    "    errors+=[sum(squared_distance(x, means[cluster]) for x, cluster in zip(X, assignments))]\n",
    "    \n",
    "plt.plot(my_range, errors, 'b*-')\n",
    "plt.xlabel(\"k\")\n",
    "plt.xticks(np.arange(min(my_range), max(my_range)+1, 1.0))\n",
    "plt.ylabel(\"total squared error\")\n",
    "plt.title(\"Total Error vs. # of Clusters k\")\n",
    "plt.grid(True)\n",
    "plt.show()"
   ]
  },
  {
   "cell_type": "markdown",
   "metadata": {},
   "source": [
    "After plotting the sum of squared errors between each point and the mean of its cluster vs k, we can see that in general there is no dramatic difference as our upper y axis limit is 3. Having said that, the graph \"bends\" at k=3, meaning that above this k we don't get a signficant discrease in errors, it should therefore be the default k value in the visualization."
   ]
  },
  {
   "cell_type": "markdown",
   "metadata": {},
   "source": [
    "**Using Python, create a file containing the data you wish to visualize.\n",
    "The datapoints you should use, is the same as for week 5, so it is all crimes with type = PROSTITUTION\n",
    "Note : Think carefully about how you can minimize the size of the file containing the data. My file is around 700KB. Why is the size of the file important?**"
   ]
  },
  {
   "cell_type": "code",
   "execution_count": 15,
   "metadata": {
    "collapsed": true
   },
   "outputs": [],
   "source": [
    "centers=[]\n",
    "\n",
    "prost_geo_data_reduced={}\n",
    "for estimator in kmeans:\n",
    "        n=estimator.n_clusters\n",
    "        for i in range(n):\n",
    "            # Extract centroid coordinates for each different k:\n",
    "            center=np.ndarray.tolist(estimator.cluster_centers_)[i]\n",
    "            centers+=[{'cluster': [i]*n, 'lat':center[1], 'lon':center[0], 'center':n}]\n",
    "             # Store data point coordinates and their labels for different k values:           \n",
    "            for index in np.where(estimator.labels_ == i)[0]:\n",
    "                coord=str(X[index])\n",
    "                if coord not in prost_geo_data_reduced:\n",
    "                    # To avoid redundancy we are using a dict {coordinates: {k:label}}\n",
    "                    prost_geo_data_reduced[coord]={n:i}\n",
    "                else:  \n",
    "                    prost_geo_data_reduced[coord][n]=i\n",
    "\n",
    "\n",
    "with open('sf_prost_data_reduced.csv', 'w') as csvfile:\n",
    "    fieldnames = ['cluster', 'lat', 'lon', 'center', 'bbox']\n",
    "    writer = csv.DictWriter(csvfile, fieldnames=fieldnames)\n",
    "    writer.writeheader()\n",
    "    # Pass bounding box coordinates\n",
    "    writer.writerow({'bbox': True, 'lat': bbox_center_x, 'lon':bbox_center_y, 'center': False})\n",
    "    # Write centroid data \n",
    "    for center in centers:\n",
    "        writer.writerow(center)\n",
    "    for point in prost_geo_data_reduced:\n",
    "            lon, lat=point[1:-1].split(',')\n",
    "            writer.writerow({'cluster': prost_geo_data_reduced[point].values(), 'lat':lat, 'lon':lon})"
   ]
  },
  {
   "cell_type": "markdown",
   "metadata": {
    "collapsed": true
   },
   "source": [
    "The size of the file is important because 1. it will be stored locally 2. and more importantly, it will be parsed by the browser: the larger the file, the slower the rendering of the dotted map will be."
   ]
  }
 ],
 "metadata": {
  "kernelspec": {
   "display_name": "Python 2",
   "language": "python",
   "name": "python2"
  },
  "language_info": {
   "codemirror_mode": {
    "name": "ipython",
    "version": 2
   },
   "file_extension": ".py",
   "mimetype": "text/x-python",
   "name": "python",
   "nbconvert_exporter": "python",
   "pygments_lexer": "ipython2",
   "version": "2.7.13"
  }
 },
 "nbformat": 4,
 "nbformat_minor": 2
}
